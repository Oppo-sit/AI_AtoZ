{
 "cells": [
  {
   "cell_type": "markdown",
   "metadata": {},
   "source": [
    "# TORCH.AUTOGRAD\n",
    "\n",
    "torch.autograd는 신경망 학습을 진행하기 위한 자동미분 엔진이다.\n",
    "<br><br>\n",
    "## Background\n",
    "신경망은 입력 데이터에서 실행되는 중첩된(nested) 함수의 collection이다. 이들 함수는 parameter(weight and bias)에 의해 정의되며 tensor에 저장된다.\n",
    "<br><br>\n",
    "신경망 학습의 과정은 크게 두 단계로 나뉜다 : 순전파, 역전파\n",
    "<br><br>\n",
    "1) 순전파(Forward Propagation) : 순전파에서의 신경망은 parameter를 기반으로 한 최적의 output을 추정한다.\n",
    "<br><br>\n",
    "2) 역전파(Backward Propagation) : 역전파에서의 신경망은 추정한 결과와 실제 결과와의 error를 기반으로 하여 파라미터(weight, bias)를 조정한다. 본 과정은 각 layer를 지나며 함수(모델)의 parameter에 대한 오차의 미분값(gradient)을 계산하며, 'gradient descent(경사하강법)'이라고 부른다. "
   ]
  },
  {
   "cell_type": "code",
   "execution_count": 1,
   "metadata": {},
   "outputs": [
    {
     "name": "stderr",
     "output_type": "stream",
     "text": [
      "Downloading: \"https://download.pytorch.org/models/resnet18-5c106cde.pth\" to C:\\Users\\202132045/.cache\\torch\\hub\\checkpoints\\resnet18-5c106cde.pth\n",
      "52.5%IOPub message rate exceeded.\n",
      "The notebook server will temporarily stop sending output\n",
      "to the client in order to avoid crashing it.\n",
      "To change this limit, set the config variable\n",
      "`--NotebookApp.iopub_msg_rate_limit`.\n",
      "\n",
      "Current values:\n",
      "NotebookApp.iopub_msg_rate_limit=1000.0 (msgs/sec)\n",
      "NotebookApp.rate_limit_window=3.0 (secs)\n",
      "\n",
      "100.0%\n"
     ]
    }
   ],
   "source": [
    "import torch, torchvision\n",
    "model = torchvision.models.resnet18(pretrained=True)\n",
    "data = torch.rand(1, 3, 64, 64) # 64x64의 size와 3개의 channel을 가진 단일 이미지\n",
    "labels = torch.rand(1, 1000) # output 개수 1000개"
   ]
  },
  {
   "cell_type": "code",
   "execution_count": 2,
   "metadata": {},
   "outputs": [],
   "source": [
    "prediction = model(data) # 순전파 단계(forward pass)"
   ]
  },
  {
   "cell_type": "code",
   "execution_count": 3,
   "metadata": {},
   "outputs": [],
   "source": [
    "loss = (prediction - labels).sum()\n",
    "loss.backward() # 역전파 단계(backward pass)"
   ]
  },
  {
   "cell_type": "code",
   "execution_count": 4,
   "metadata": {},
   "outputs": [],
   "source": [
    "optim = torch.optim.SGD(model.parameters(), lr=1e-2, momentum=0.9)"
   ]
  },
  {
   "cell_type": "code",
   "execution_count": 5,
   "metadata": {},
   "outputs": [],
   "source": [
    "optim.step() # 경사하강법(gradient descent)"
   ]
  },
  {
   "cell_type": "code",
   "execution_count": null,
   "metadata": {},
   "outputs": [],
   "source": []
  }
 ],
 "metadata": {
  "kernelspec": {
   "display_name": "Python 3",
   "language": "python",
   "name": "python3"
  },
  "language_info": {
   "codemirror_mode": {
    "name": "ipython",
    "version": 3
   },
   "file_extension": ".py",
   "mimetype": "text/x-python",
   "name": "python",
   "nbconvert_exporter": "python",
   "pygments_lexer": "ipython3",
   "version": "3.8.12"
  }
 },
 "nbformat": 4,
 "nbformat_minor": 4
}
